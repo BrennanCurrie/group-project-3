{
 "cells": [
  {
   "cell_type": "code",
   "execution_count": 1,
   "id": "b4d61e4d",
   "metadata": {},
   "outputs": [],
   "source": [
    "import spotipy\n",
    "from spotipy.oauth2 import SpotifyClientCredentials\n",
    "cid = '65035d33942c4248bc6829d1d661f8e3'\n",
    "secret = '9573b7244533425ebb417750634759ed'\n",
    "client_credentials_manager = SpotifyClientCredentials(client_id=cid, client_secret=secret)\n",
    "sp = spotipy.Spotify(client_credentials_manager\n",
    "= client_credentials_manager)"
   ]
  },
  {
   "cell_type": "code",
   "execution_count": null,
   "id": "fabfa590",
   "metadata": {},
   "outputs": [],
   "source": [
    "artist_name = []\n",
    "track_name = []\n",
    "popularity = []\n",
    "track_id = []\n",
    "for i in range(0,1000,50):\n",
    "    track_results = sp.search(q='year:2022',type='track',market='US', limit=50,offset=i)\n",
    "    for i, t in enumerate(track_results['tracks']['items']):\n",
    "        artist_name.append(t['artists'][0]['name'])\n",
    "        track_name.append(t['name'])\n",
    "        track_id.append(t['id'])\n",
    "        popularity.append(t['popularity'])\n"
   ]
  },
  {
   "cell_type": "code",
   "execution_count": null,
   "id": "2a9e4ea5",
   "metadata": {},
   "outputs": [],
   "source": [
    "regions = [ 'Alabama', 'Alaska', 'Arizona', 'Arkansas', 'California', 'Colorado', 'Connecticut', 'Delaware', 'Florida', 'Georgia', 'Hawaii', 'Idaho', 'Illinois', 'Indiana', 'Iowa', 'Kansas', 'Kentucky', 'Louisiana', 'Maine', 'Maryland', 'Massachusetts', 'Michigan', 'Minnesota', 'Mississippi', 'Missouri', 'Montana', 'Nebraska', 'Nevada', 'New Hampshire', 'New Jersey', 'New Mexico', 'New York', 'North Carolina', 'North Dakota', 'Ohio', 'Oklahoma', 'Oregon', 'Pennsylvania', 'Rhode Island', 'South Carolina', 'South Dakota', 'Tennessee', 'Texas', 'Utah', 'Vermont', 'Virginia', 'Washington', 'West Virginia', 'Wisconsin', 'Wyoming' ]\n",
    "# Set the limit for the number of top tracks per region\n",
    "limit = 20\n",
    "# Iterate over the regions\n",
    "for region in regions:\n",
    "    # Get the popular playlists for the specific region\n",
    "    playlists = sp.search(q=f'top tracks {region}', type='playlist', limit=1)['playlists']['items']\n",
    "    if len(playlists) > 0:\n",
    "        playlist_id = playlists[0]['id']\n",
    "        playlist_name = playlists[0]['name']\n",
    "        # Get the tracks of the playlist\n",
    "        tracks = sp.playlist_tracks(playlist_id, limit=limit)['items']\n",
    "        # Print the region and its top tracks\n",
    "        print(f'Region: {region}')\n",
    "        print(f'Playlist: {playlist_name}')\n",
    "        for track in tracks:\n",
    "            track_name = track['track']['name']\n",
    "            artist_name = track['track']['artists'][0]['name']\n",
    "            print(f'Track: {track_name} - Artist: {artist_name}')\n",
    "        print('---')\n",
    "    else:\n",
    "        print(f'No playlist found for {region}.')"
   ]
  },
  {
   "cell_type": "code",
   "execution_count": null,
   "id": "f935e25c",
   "metadata": {},
   "outputs": [],
   "source": [
    "import pandas as pd\n",
    "track_dataframe = pd.DataFrame({'artist_name' : artist_name, 'track_name' : track_name, 'track_id' : track_id, 'popularity' : popularity})\n",
    "print(track_dataframe.shape)\n",
    "track_dataframe.head(25)"
   ]
  },
  {
   "cell_type": "code",
   "execution_count": null,
   "id": "d01d9fce",
   "metadata": {},
   "outputs": [],
   "source": [
    "country_code = 'US'\n",
    "limit = 20\n",
    "playlists = sp.category_playlists(category_id='toplists', country=country_code)['playlists']['items']\n",
    "# Iterate over the playlists and retrieve their tracks\n",
    "for playlist in playlists:\n",
    "    playlist_id = playlist['id']\n",
    "    playlist_name = playlist['name']\n",
    "    playlist_popularity= playlist['popularity']\n",
    "    # Get the tracks of the playlist\n",
    "    tracks = sp.playlist_tracks(playlist_id, limit=limit)['items']\n",
    "    # Print the playlist name and its top 20 tracks\n",
    "    print(f'Playlist: {playlist_name},{playlist_popularity}')\n",
    "    for track in tracks:\n",
    "        track_name = track['track']['name']\n",
    "        artist_name = track['track']['artists'][0]['name']\n",
    "        print(f'Track: {track_name} - Artist: {artist_name}')\n",
    "    print('---')"
   ]
  },
  {
   "cell_type": "code",
   "execution_count": null,
   "id": "e818ab94",
   "metadata": {},
   "outputs": [],
   "source": [
    "states = [ 'Alabama', 'Alaska', 'Arizona', 'Arkansas', 'California', 'Colorado', 'Connecticut', 'Delaware', 'Florida', 'Georgia', 'Hawaii', 'Idaho', 'Illinois', 'Indiana', 'Iowa', 'Kansas', 'Kentucky', 'Louisiana', 'Maine', 'Maryland', 'Massachusetts', 'Michigan', 'Minnesota', 'Mississippi', 'Missouri', 'Montana', 'Nebraska', 'Nevada', 'New Hampshire', 'New Jersey', 'New Mexico', 'New York', 'North Carolina', 'North Dakota', 'Ohio', 'Oklahoma', 'Oregon', 'Pennsylvania', 'Rhode Island', 'South Carolina', 'South Dakota', 'Tennessee', 'Texas', 'Utah', 'Vermont', 'Virginia', 'Washington', 'West Virginia', 'Wisconsin', 'Wyoming' ]\n",
    "\n",
    "# Set the limit for the number of top tracks per region\n",
    "limit = 1\n",
    "all_tracks = []\n",
    "# Iterate over the states\n",
    "for state in states:\n",
    "    # Get the popular playlists for the specific state\n",
    "    playlists = sp.search(q=f'top tracks {state}', type='playlist', limit=1)['playlists']['items']\n",
    "    if len(playlists) > 0:\n",
    "        playlist_id = playlists[0]['id']\n",
    "        # Get the tracks of the playlist\n",
    "        tracks = sp.playlist_tracks(playlist_id, limit=limit)['items']\n",
    "        # Sort the tracks based on popularity\n",
    "        sorted_tracks = sorted(tracks, key=lambda t: t['track']['popularity'], reverse=True)\n",
    "        # Print the state and its top tracks in order of popularity\n",
    "        print(f'State: {state}')\n",
    "        for i, track in enumerate(sorted_tracks):\n",
    "            track_name = track['track']['name']\n",
    "            artist_name = track['track']['artists'][0]['name']\n",
    "            popularity = track['track']['popularity']\n",
    "            print(f'{i+1}. Track: {track_name} - Artist: {artist_name} - Popularity: {popularity}')\n",
    "        print('---')\n",
    "    else:\n",
    "        print(f'No playlist found for {state}.')"
   ]
  },
  {
   "cell_type": "code",
   "execution_count": null,
   "id": "6e945c01",
   "metadata": {},
   "outputs": [
    {
     "name": "stdout",
     "output_type": "stream",
     "text": [
      "State: Alabama\n"
     ]
    }
   ],
   "source": [
    "states = [ 'Alabama', 'Alaska', 'Arizona', 'Arkansas', 'California', 'Colorado', 'Connecticut', 'Delaware', 'Florida', 'Georgia', 'Hawaii', 'Idaho', 'Illinois', 'Indiana', 'Iowa', 'Kansas', 'Kentucky', 'Louisiana', 'Maine', 'Maryland', 'Massachusetts', 'Michigan', 'Minnesota', 'Mississippi', 'Missouri', 'Montana', 'Nebraska', 'Nevada', 'New Hampshire', 'New Jersey', 'New Mexico', 'New York', 'North Carolina', 'North Dakota', 'Ohio', 'Oklahoma', 'Oregon', 'Pennsylvania', 'Rhode Island', 'South Carolina', 'South Dakota', 'Tennessee', 'Texas', 'Utah', 'Vermont', 'Virginia', 'Washington', 'West Virginia', 'Wisconsin', 'Wyoming' ]\n",
    "\n",
    "limit = 3\n",
    "for state in states:\n",
    "    print(f'State: {state}')\n",
    "    playlists = sp.search(q=f'top tracks {state}', type='playlist', limit=50)['playlists']['items']\n",
    "    selected_playlist = None\n",
    "# Find the playlist with 500,000 or more saves\n",
    "    for playlist in playlists:\n",
    "        playlist_id = playlist['id']\n",
    "        playlist_info = sp.playlist(playlist_id)\n",
    "        if playlist_info['followers']['total'] >= 500000:\n",
    "            selected_playlist = playlist\n",
    "            break\n",
    "    if selected_playlist:\n",
    "        playlist_id = selected_playlist['id']\n",
    "    # Get the tracks of the playlist\n",
    "        tracks = sp.playlist_tracks(playlist_id, limit=limit)['items']\n",
    "    # Sort the tracks based on popularity\n",
    "        sorted_tracks = sorted(tracks, key=lambda t: t['track']['popularity'], reverse=True)\n",
    "    # Print the top tracks in order of popularity\n",
    "        for i, track in enumerate(sorted_tracks):\n",
    "            track_name = track['track']['name']\n",
    "            artist_name = track['track']['artists'][0]['name']\n",
    "            popularity = track['track']['popularity']\n",
    "            print(f'{i+1}. Track: {track_name} - Artist: {artist_name} - Popularity: {popularity}')\n",
    "        print(f'Playlist: {selected_playlist}')\n",
    "\n",
    "    else:\n",
    "        print(f'No playlist found with 500,000 or more saves for {state}.')\n",
    "    print('---')"
   ]
  },
  {
   "cell_type": "code",
   "execution_count": null,
   "id": "71eaa24a",
   "metadata": {},
   "outputs": [],
   "source": []
  }
 ],
 "metadata": {
  "kernelspec": {
   "display_name": "Python 3 (ipykernel)",
   "language": "python",
   "name": "python3"
  },
  "language_info": {
   "codemirror_mode": {
    "name": "ipython",
    "version": 3
   },
   "file_extension": ".py",
   "mimetype": "text/x-python",
   "name": "python",
   "nbconvert_exporter": "python",
   "pygments_lexer": "ipython3",
   "version": "3.10.9"
  }
 },
 "nbformat": 4,
 "nbformat_minor": 5
}
